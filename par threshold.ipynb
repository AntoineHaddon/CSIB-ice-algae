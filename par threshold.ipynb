{
 "cells": [
  {
   "cell_type": "code",
   "execution_count": 1,
   "id": "7a28e192-94d9-4854-9317-07532521a933",
   "metadata": {},
   "outputs": [],
   "source": [
    "import numpy as np\n",
    "from scipy.optimize import fsolve"
   ]
  },
  {
   "cell_type": "markdown",
   "id": "129618eb-54bb-49ab-b06b-192ffc3c8a5f",
   "metadata": {},
   "source": [
    "Energy per mole of photons\n",
    "\n",
    "E = h c N$_A$/ $\\lambda$\n"
   ]
  },
  {
   "cell_type": "code",
   "execution_count": 2,
   "id": "c53b6c88-a1d2-4346-bf5b-3c5cfebd67aa",
   "metadata": {},
   "outputs": [
    {
     "name": "stdout",
     "output_type": "stream",
     "text": [
      "lambda = 550 -> 4.6 mumol photons/J\n"
     ]
    }
   ],
   "source": [
    "hc=1.986*1e-25 # planck*c\n",
    "Na=6.022*1e23  # avagadro\n",
    "mumolphotons_per_J = 550 *1e-9 / (hc*Na*1e-6)\n",
    "print(f'lambda = 550 -> {mumolphotons_per_J:.3} mumol photons/J')"
   ]
  },
  {
   "cell_type": "markdown",
   "id": "a8b90019-b11f-43ee-9b8f-b3bc7c66de4d",
   "metadata": {},
   "source": [
    "PAR threshold"
   ]
  },
  {
   "cell_type": "code",
   "execution_count": 3,
   "id": "68a7100d-43cf-4912-a34c-b1cff4bdef33",
   "metadata": {},
   "outputs": [],
   "source": [
    "def limPAR(par): return np.tanh( 2.0 * par)"
   ]
  },
  {
   "cell_type": "markdown",
   "id": "eab2b51b-6188-49ed-b3b7-2e674596c8f9",
   "metadata": {},
   "source": [
    "Half limitation"
   ]
  },
  {
   "cell_type": "code",
   "execution_count": 4,
   "id": "161e2a27-16e8-4616-8a96-e495ac15c769",
   "metadata": {},
   "outputs": [
    {
     "name": "stdout",
     "output_type": "stream",
     "text": [
      "Growth limitation 0.500\n",
      "0.275 W /m2\n",
      "1.26 mu mol photons / m2 s\n"
     ]
    }
   ],
   "source": [
    "grthLim = 0.5\n",
    "min_PARwatts = fsolve(lambda w:limPAR(w)-grthLim, 0)[0]\n",
    "min_photonsflux = min_PARwatts * mumolphotons_per_J\n",
    "print(f'Growth limitation {grthLim:.3f}')\n",
    "print(f'{min_PARwatts:.3} W /m2')\n",
    "print(f'{min_photonsflux:.3} mu mol photons / m2 s')"
   ]
  },
  {
   "cell_type": "markdown",
   "id": "c514a552-d6b1-4084-8c96-5a12822eebfc",
   "metadata": {},
   "source": [
    "Mock and Gradinger, 1999"
   ]
  },
  {
   "cell_type": "code",
   "execution_count": 7,
   "id": "94b07e32-7e3a-4265-9a50-f6534ed47f8d",
   "metadata": {},
   "outputs": [
    {
     "name": "stdout",
     "output_type": "stream",
     "text": [
      "0.36 mu mol photons / m2 s\n",
      "0.0783 W /m2\n",
      "Growth limitation 0.15530\n"
     ]
    }
   ],
   "source": [
    "min_photonsflux = 0.36\n",
    "min_PARwatts = min_photonsflux / mumolphotons_per_J\n",
    "grthLim = limPAR(min_PARwatts)\n",
    "print(f'{min_photonsflux} mu mol photons / m2 s')\n",
    "print(f'{min_PARwatts:.3} W /m2')\n",
    "print(f'Growth limitation {grthLim:.5f}')"
   ]
  },
  {
   "cell_type": "markdown",
   "id": "e35b8181-d7c9-4902-9038-2765bf4a1731",
   "metadata": {},
   "source": [
    "(Gosselin et al., 1986; Horner and Schrader, 1982) "
   ]
  },
  {
   "cell_type": "code",
   "execution_count": 54,
   "id": "da38e477-1587-46e6-b78c-60195aff1b6e",
   "metadata": {},
   "outputs": [
    {
     "name": "stdout",
     "output_type": "stream",
     "text": [
      "2 mu mol photons / m2 s\n",
      "0.435 W /m2\n",
      "Growth limitation 0.701\n"
     ]
    }
   ],
   "source": [
    "min_photonsflux = 2\n",
    "min_PARwatts = min_photonsflux / mumolphotons_per_J\n",
    "grthLim = limPAR(min_PARwatts)\n",
    "print(f'{min_photonsflux} mu mol photons / m2 s')\n",
    "print(f'{min_PARwatts:.3} W /m2')\n",
    "print(f'Growth limitation {grthLim:.3f}')"
   ]
  },
  {
   "cell_type": "code",
   "execution_count": 55,
   "id": "0c8bf645-d03f-4da7-b47f-03af19a55759",
   "metadata": {},
   "outputs": [
    {
     "name": "stdout",
     "output_type": "stream",
     "text": [
      "9 mu mol photons / m2 s\n",
      "1.96 W /m2\n",
      "Growth limitation 0.999\n"
     ]
    }
   ],
   "source": [
    "min_photonsflux = 9\n",
    "min_PARwatts = min_photonsflux / mumolphotons_per_J\n",
    "grthLim = limPAR(min_PARwatts)\n",
    "print(f'{min_photonsflux} mu mol photons / m2 s')\n",
    "print(f'{min_PARwatts:.3} W /m2')\n",
    "print(f'Growth limitation {grthLim:.3f}')"
   ]
  },
  {
   "cell_type": "markdown",
   "id": "0a90503f-edf7-4c8f-b65d-c0722d7860a3",
   "metadata": {},
   "source": [
    "Lim 2022"
   ]
  },
  {
   "cell_type": "code",
   "execution_count": 56,
   "id": "d5c8aeb1-9e75-45c6-a52c-e26f96070fd6",
   "metadata": {},
   "outputs": [
    {
     "name": "stdout",
     "output_type": "stream",
     "text": [
      "-1.11e-16 net photosynthetic flux\n",
      "2.64 mu mol photons / m2 s\n",
      "0.574 W /m2\n",
      "Growth limitation 0.817\n"
     ]
    }
   ],
   "source": [
    "def photosyn_rate(PAR): return 0.7*(1-np.exp(-0.1*PAR/0.7)) - 0.22\n",
    "min_photonsflux = fsolve(photosyn_rate, 0)[0]\n",
    "print(f'{photosyn_rate(min_photonsflux):.3} net photosynthetic flux')\n",
    "\n",
    "min_PARwatts = min_photonsflux / mumolphotons_per_J\n",
    "grthLim = limPAR(min_PARwatts)\n",
    "print(f'{min_photonsflux:.3} mu mol photons / m2 s')\n",
    "print(f'{min_PARwatts:.3} W /m2')\n",
    "print(f'Growth limitation {grthLim:.3f}')\n"
   ]
  },
  {
   "cell_type": "code",
   "execution_count": null,
   "id": "58199dfe-4bc7-47b8-b9c0-4084a1dba4d7",
   "metadata": {},
   "outputs": [],
   "source": []
  },
  {
   "cell_type": "code",
   "execution_count": null,
   "id": "045e2c1a-fdc1-4a66-a4d0-e7d59d1ce540",
   "metadata": {},
   "outputs": [],
   "source": []
  },
  {
   "cell_type": "code",
   "execution_count": null,
   "id": "653ceace-e805-4ebc-ba40-2642f7b92ac2",
   "metadata": {},
   "outputs": [],
   "source": []
  },
  {
   "cell_type": "code",
   "execution_count": 58,
   "id": "f92f844d-4d85-4830-80d1-b9ac473d015b",
   "metadata": {},
   "outputs": [
    {
     "data": {
      "text/plain": [
       "nan"
      ]
     },
     "execution_count": 58,
     "metadata": {},
     "output_type": "execute_result"
    }
   ],
   "source": [
    "np.nan-15"
   ]
  },
  {
   "cell_type": "code",
   "execution_count": null,
   "id": "00882605-92a2-440e-905e-96ef7564a8e3",
   "metadata": {},
   "outputs": [],
   "source": []
  }
 ],
 "metadata": {
  "kernelspec": {
   "display_name": "Python 3 (ipykernel)",
   "language": "python",
   "name": "python3"
  },
  "language_info": {
   "codemirror_mode": {
    "name": "ipython",
    "version": 3
   },
   "file_extension": ".py",
   "mimetype": "text/x-python",
   "name": "python",
   "nbconvert_exporter": "python",
   "pygments_lexer": "ipython3",
   "version": "3.10.9"
  }
 },
 "nbformat": 4,
 "nbformat_minor": 5
}
